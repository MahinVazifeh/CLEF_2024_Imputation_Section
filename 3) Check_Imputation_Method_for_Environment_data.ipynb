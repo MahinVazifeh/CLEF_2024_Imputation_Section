{
 "cells": [
  {
   "cell_type": "markdown",
   "id": "7766a906",
   "metadata": {},
   "source": [
    "This Script check the missing data imputation methods for Train envirnmental.\n",
    "Interpolation methods, KNN, and micefirest are considered for analysis. \n",
    "In some columns, there are missing values for almost 40 weeks after baseline."
   ]
  },
  {
   "cell_type": "code",
   "execution_count": null,
   "id": "eadab85e",
   "metadata": {},
   "outputs": [],
   "source": [
    "https://ishanjainoffical.medium.com/missing-value-treatment-advanced-methods-f7fa05ec0f39"
   ]
  },
  {
   "cell_type": "code",
   "execution_count": 1,
   "id": "c95f8ef6",
   "metadata": {},
   "outputs": [],
   "source": [
    "import pandas as pd\n",
    "import numpy as np\n",
    "import matplotlib.pyplot as plt\n",
    "import seaborn as sns\n",
    "import miceforest as mf\n",
    "import random\n",
    "import sklearn.neighbors._base \n",
    "import sys\n",
    "sys.modules['sklearn.neighbors.base'] = sklearn.neighbors._base\n",
    "from missingpy import MissForest\n",
    "from sklearn.impute import KNNImputer\n",
    "from sklearn.cluster import KMeans\n",
    "from sklearn import preprocessing\n",
    "from sklearn.metrics import mean_squared_error"
   ]
  },
  {
   "cell_type": "code",
   "execution_count": 2,
   "id": "a10932d9",
   "metadata": {},
   "outputs": [],
   "source": [
    "# Function to introduce missing values randomly (modified from previous example)\n",
    "def create_missing_values(data, missing_prob):\n",
    "  for col in data.columns:\n",
    "    missing_indices = np.random.choice(data.index, size=int(missing_prob * len(data)), replace=False)\n",
    "    data.loc[missing_indices, col] = np.nan\n",
    "  return data\n",
    "\n",
    "def fill_missing_with_mean(group):\n",
    "    return group.fillna(group.mean())"
   ]
  },
  {
   "cell_type": "code",
   "execution_count": 3,
   "id": "49c69de9",
   "metadata": {},
   "outputs": [],
   "source": [
    "path_env = \"C:/Users/Mahin Vazifehdan/Desktop/Datasets/BrainTeaser/CLEF_2024/Original_data/train_environmental_meas.csv\"\n",
    "env_data = pd.read_csv(path_env) # 113923 * 36\n",
    "\n",
    "# Create a mapping dictionary to assign numerical values to patient IDs\n",
    "unique_patients = env_data['patient_id'].unique()\n",
    "patient_id_map = {patient_id: idx+1 for idx, patient_id in enumerate(unique_patients)}\n",
    "env_data[\"patient_number\"] = env_data[\"patient_id\"].map(patient_id_map)\n",
    "\n",
    "# Make air pollution who percentage features\n",
    "Env_features = {'PM25': 1,\n",
    "                'PM10': 2,\n",
    "                'CO': 3,\n",
    "                'NO2': 4,\n",
    "                'O3': 5,\n",
    "                'SO2': 6}\n",
    "\n",
    "for key in Env_features:\n",
    "    three_env_feature = env_data.filter(like=key)\n",
    "    env_data[key+\"_who_percentage\"] = three_env_feature.iloc[:,2] / three_env_feature.iloc[:,0]\n",
    "selected_env_feature = env_data.filter(regex='mean|percentage')\n",
    "env_data = pd.concat([env_data[[\"patient_number\",\"week_from_baseline\"]], selected_env_feature], axis=1)"
   ]
  },
  {
   "cell_type": "code",
   "execution_count": 4,
   "id": "56438d8a",
   "metadata": {},
   "outputs": [],
   "source": [
    "completed_env = env_data.dropna()\n",
    "# Select data after -4 weeks of baseline\n",
    "completed_env = completed_env[completed_env[\"week_from_baseline\"] >= -4] \n",
    "completed_env.to_csv(\"completed_env_data_-4More.csv\", index= False) # 10869 * 17\n",
    "\n",
    "missing_probability = 0.3\n",
    "miss_env_data = create_missing_values(completed_env.iloc[:,2:], missing_probability)\n",
    "miss_env_data = pd.concat([completed_env[[\"patient_number\",\"week_from_baseline\"]], miss_env_data], axis=1)\n",
    "miss_env_data.to_csv(\"Train_env_with_missing_0.1_-4More.csv\",index= False) # 10869 * 17"
   ]
  },
  {
   "cell_type": "code",
   "execution_count": 5,
   "id": "37038b61",
   "metadata": {},
   "outputs": [
    {
     "ename": "NameError",
     "evalue": "name 'completed_data' is not defined",
     "output_type": "error",
     "traceback": [
      "\u001b[1;31m---------------------------------------------------------------------------\u001b[0m",
      "\u001b[1;31mNameError\u001b[0m                                 Traceback (most recent call last)",
      "\u001b[1;32m~\\AppData\\Local\\Temp\\ipykernel_14472\\143334706.py\u001b[0m in \u001b[0;36m<module>\u001b[1;34m\u001b[0m\n\u001b[0;32m      1\u001b[0m \u001b[1;31m# K-means imputation\u001b[0m\u001b[1;33m\u001b[0m\u001b[1;33m\u001b[0m\u001b[1;33m\u001b[0m\u001b[0m\n\u001b[1;32m----> 2\u001b[1;33m \u001b[0mkmean_completed\u001b[0m \u001b[1;33m=\u001b[0m \u001b[0mcompleted_data\u001b[0m\u001b[1;33m.\u001b[0m\u001b[0mcopy\u001b[0m\u001b[1;33m(\u001b[0m\u001b[1;33m)\u001b[0m\u001b[1;33m\u001b[0m\u001b[1;33m\u001b[0m\u001b[0m\n\u001b[0m\u001b[0;32m      3\u001b[0m \u001b[0mkmean_missing\u001b[0m \u001b[1;33m=\u001b[0m \u001b[0mmissing_data\u001b[0m\u001b[1;33m.\u001b[0m\u001b[0mcopy\u001b[0m\u001b[1;33m(\u001b[0m\u001b[1;33m)\u001b[0m\u001b[1;33m\u001b[0m\u001b[1;33m\u001b[0m\u001b[0m\n\u001b[0;32m      4\u001b[0m \u001b[1;33m\u001b[0m\u001b[0m\n\u001b[0;32m      5\u001b[0m \u001b[0mn_clusters\u001b[0m \u001b[1;33m=\u001b[0m \u001b[1;36m3\u001b[0m\u001b[1;33m\u001b[0m\u001b[1;33m\u001b[0m\u001b[0m\n",
      "\u001b[1;31mNameError\u001b[0m: name 'completed_data' is not defined"
     ]
    }
   ],
   "source": [
    "# K-means imputation\n",
    "kmean_completed = completed_data.copy()\n",
    "kmean_missing = missing_data.copy()\n",
    "\n",
    "n_clusters = 3\n",
    "kmeans = KMeans(n_clusters=n_clusters, random_state=42)\n",
    "kmean_completed['Cluster'] = kmeans.fit_predict(kmean_completed) \n",
    "kmean_missing['Cluster'] = kmean_completed['Cluster']\n",
    "\n",
    "for cluster_label in range(n_clusters): \n",
    "    cluster_subset = kmean_completed[kmean_completed['Cluster'] == cluster_label]\n",
    "    cluster_mean = cluster_subset[kmean_completed.columns[11:19]].mean().round()\n",
    "    filled_data = kmean_missing.loc[kmean_missing['Cluster'] == cluster_label,\n",
    "                                    kmean_missing.columns[11:19]].fillna(cluster_mean, inplace=False)\n",
    "    kmean_missing.update(filled_data)\n",
    "    \n",
    "kmean_missing.drop([\"Cluster\"], axis=1, inplace = True)\n",
    "kmean_missing.head()"
   ]
  },
  {
   "cell_type": "code",
   "execution_count": 12,
   "id": "1482656d",
   "metadata": {},
   "outputs": [],
   "source": [
    "# Impute with LOCF method\n",
    "LOCF_imputed = miss_env_data.groupby('patient_number').apply(lambda x: x.fillna(method='ffill'))\n",
    "LOCF_imputed = LOCF_imputed.groupby('patient_number').apply(fill_missing_with_mean)\n",
    "\n",
    "#Interpolation Methods\n",
    "linear_imputed_data = miss_env_data.groupby('patient_number').apply(lambda group: group.interpolate(method='linear'))\n",
    "linear_imputed = linear_imputed_data.groupby('patient_number').apply(fill_missing_with_mean)\n",
    "\n",
    "nearest_imputed_data = miss_env_data.groupby('patient_number').apply(lambda group: group.interpolate(method='nearest'))\n",
    "nearest_imputed = nearest_imputed_data.groupby('patient_number').apply(fill_missing_with_mean)\n"
   ]
  },
  {
   "cell_type": "code",
   "execution_count": 14,
   "id": "ab092cd5",
   "metadata": {
    "collapsed": true
   },
   "outputs": [
    {
     "name": "stdout",
     "output_type": "stream",
     "text": [
      "Initialized logger with name mice 1-5\n",
      "Dataset 0\n",
      "1  | PM25_mean | NO2_who_percentage | CO_who_percentage | PM10_who_percentage | PM25_who_percentage | max_temperature_mean | min_temperature_mean | average_temperature_mean | precipitation_mean | global_radiation_mean | sealevel_pressure_mean | humidity_mean | wind_speed_mean | SO2_mean | O3_mean | NO2_mean | CO_mean | PM10_mean | O3_who_percentage | SO2_who_percentage\n",
      "2  | PM25_mean | NO2_who_percentage | CO_who_percentage | PM10_who_percentage | PM25_who_percentage | max_temperature_mean | min_temperature_mean | average_temperature_mean | precipitation_mean | global_radiation_mean | sealevel_pressure_mean | humidity_mean | wind_speed_mean | SO2_mean | O3_mean | NO2_mean | CO_mean | PM10_mean | O3_who_percentage | SO2_who_percentage\n",
      "3  | PM25_mean | NO2_who_percentage | CO_who_percentage | PM10_who_percentage | PM25_who_percentage | max_temperature_mean | min_temperature_mean | average_temperature_mean | precipitation_mean | global_radiation_mean | sealevel_pressure_mean | humidity_mean | wind_speed_mean | SO2_mean | O3_mean | NO2_mean | CO_mean | PM10_mean | O3_who_percentage | SO2_who_percentage\n",
      "4  | PM25_mean | NO2_who_percentage | CO_who_percentage | PM10_who_percentage | PM25_who_percentage | max_temperature_mean | min_temperature_mean | average_temperature_mean | precipitation_mean | global_radiation_mean | sealevel_pressure_mean | humidity_mean | wind_speed_mean | SO2_mean | O3_mean | NO2_mean | CO_mean | PM10_mean | O3_who_percentage | SO2_who_percentage\n",
      "5  | PM25_mean | NO2_who_percentage | CO_who_percentage | PM10_who_percentage | PM25_who_percentage | max_temperature_mean | min_temperature_mean | average_temperature_mean | precipitation_mean | global_radiation_mean | sealevel_pressure_mean | humidity_mean | wind_speed_mean | SO2_mean | O3_mean | NO2_mean | CO_mean | PM10_mean | O3_who_percentage | SO2_who_percentage\n"
     ]
    }
   ],
   "source": [
    "# Mice forest imputation\n",
    "mice_missing = miss_env_data.copy()\n",
    "\n",
    "kernel = mf.ImputationKernel(\n",
    "  data=mice_missing.iloc[:,2:],\n",
    "  save_all_iterations=True,\n",
    "  random_state=1343)\n",
    "\n",
    "kernel.mice(5,verbose=True)\n",
    "mice_imputed = kernel.complete_data(dataset=0, inplace=False)\n",
    "mice_imputed = pd.concat([completed_env[[\"patient_number\",\"week_from_baseline\"]], mice_imputed], axis=1) #10931 * 22"
   ]
  },
  {
   "cell_type": "code",
   "execution_count": 15,
   "id": "58fd2c88",
   "metadata": {
    "collapsed": true
   },
   "outputs": [
    {
     "data": {
      "text/plain": [
       "patient_number              0\n",
       "week_from_baseline          0\n",
       "PM25_mean                   0\n",
       "PM10_mean                   0\n",
       "CO_mean                     0\n",
       "NO2_mean                    0\n",
       "O3_mean                     0\n",
       "SO2_mean                    0\n",
       "wind_speed_mean             0\n",
       "humidity_mean               0\n",
       "sealevel_pressure_mean      0\n",
       "global_radiation_mean       0\n",
       "precipitation_mean          0\n",
       "average_temperature_mean    0\n",
       "min_temperature_mean        0\n",
       "max_temperature_mean        0\n",
       "PM25_who_percentage         0\n",
       "PM10_who_percentage         0\n",
       "CO_who_percentage           0\n",
       "NO2_who_percentage          0\n",
       "O3_who_percentage           0\n",
       "SO2_who_percentage          0\n",
       "dtype: int64"
      ]
     },
     "execution_count": 15,
     "metadata": {},
     "output_type": "execute_result"
    }
   ],
   "source": [
    "#KNN imputation K=5\n",
    "Knn_missing = miss_env_data.copy()\n",
    "imputer = KNNImputer()\n",
    "KNN_imputed = imputer.fit_transform(Knn_missing.iloc[:,2:])\n",
    "P_number_W_baseline = completed_env[[\"patient_number\",\"week_from_baseline\"]]\n",
    "concatenated_array = np.concatenate((P_number_W_baseline, KNN_imputed), axis=1)\n",
    "KNN_imputed = pd.DataFrame(concatenated_array, columns = miss_env_data.columns)"
   ]
  },
  {
   "cell_type": "code",
   "execution_count": 16,
   "id": "2e39a0d7",
   "metadata": {},
   "outputs": [
    {
     "name": "stdout",
     "output_type": "stream",
     "text": [
      "LOCF Error: 25.897\n",
      "Interpolation Linear Error: 16.2652\n",
      "Interpolation Polynomial Error: 24.8095\n",
      "Interpolation Hotdeck  Error: 23.4789\n",
      "Interpolation quadratic Error: 24.8095\n",
      "Interpolation Rolling Error: 34.9594\n",
      "MiceForest Error: 12.9738\n",
      "KNN Error: 6.6869\n"
     ]
    }
   ],
   "source": [
    "# Compare imputed data with real values\n",
    "# LOCF\n",
    "mse_locf = mean_squared_error(completed_env.values.flatten(), LOCF_imputed.values.flatten())\n",
    "# Interpolation\n",
    "mse_linear = mean_squared_error(completed_env.values.flatten(), linear_imputed.values.flatten())\n",
    "\n",
    "mse_nearest = mean_squared_error(completed_env.values.flatten(), nearest_imputed.values.flatten())\n",
    "\n",
    "#Mice\n",
    "mse_mice = mean_squared_error(completed_env.values.flatten(), mice_imputed.values.flatten())\n",
    "#KNN\n",
    "mse_knn = mean_squared_error(completed_env.values.flatten(), KNN_imputed.values.flatten())\n",
    "\n",
    "print(\"LOCF Error:\", mse_locf.round(4))\n",
    "print(\"Interpolation Linear Error:\", mse_linear.round(4))\n",
    "print(\"Interpolation Hotdeck  Error:\", mse_nearest.round(4))\n",
    "print(\"MiceForest Error:\", mse_mice.round(4))\n",
    "print(\"KNN Error:\", mse_knn.round(4)) # The best "
   ]
  }
 ],
 "metadata": {
  "kernelspec": {
   "display_name": "Python 3 (ipykernel)",
   "language": "python",
   "name": "python3"
  },
  "language_info": {
   "codemirror_mode": {
    "name": "ipython",
    "version": 3
   },
   "file_extension": ".py",
   "mimetype": "text/x-python",
   "name": "python",
   "nbconvert_exporter": "python",
   "pygments_lexer": "ipython3",
   "version": "3.7.9"
  }
 },
 "nbformat": 4,
 "nbformat_minor": 5
}
